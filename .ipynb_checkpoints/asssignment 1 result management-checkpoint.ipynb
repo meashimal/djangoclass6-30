{
 "cells": [
  {
   "cell_type": "code",
   "execution_count": 17,
   "id": "48133061",
   "metadata": {},
   "outputs": [
    {
     "name": "stdout",
     "output_type": "stream",
     "text": [
      "Enter numbers of student:1\n",
      "Enter Name:mjh\n",
      "Enter Mark in Physics:80\n",
      "Enter Mark in Chemistry:80\n",
      "Enter Mark in Biology:80\n",
      "Enter Mark in Math:85\n",
      "\n",
      "Name  Physics  Chemistry  Biology  Math  Total  Result\n",
      "mjh \t80 \t80 \t80 \t85 \t325 \tA \n",
      "\n"
     ]
    }
   ],
   "source": [
    "result=str()\n",
    "\n",
    "def addresult():\n",
    "    name=input(\"Enter Name:\")\n",
    "    physics=int(input(\"Enter Mark in Physics:\"))\n",
    "    chemistry=int(input(\"Enter Mark in Chemistry:\"))\n",
    "    biology=int(input(\"Enter Mark in Biology:\"))\n",
    "    math=int(input(\"Enter Mark in Math:\"))\n",
    "    \n",
    "    total=physics+chemistry+biology+math\n",
    "    \n",
    "    per=(total/400)*100\n",
    "    \n",
    "    #calculating grade\n",
    "    if per>=90:\n",
    "        remark=\"A+\"\n",
    "    elif per>=80:\n",
    "        remark=\"A\"\n",
    "    elif per>=70:\n",
    "        remark=\"B+\"\n",
    "    elif per>=60:\n",
    "        remark=\"B\"\n",
    "    else:\n",
    "        remark=\"Fail\"\n",
    "    \n",
    "    return_result=f\"{name} \\t{physics} \\t{chemistry} \\t{biology} \\t{math} \\t{total} \\t{remark} \\n\"\n",
    "    return return_result\n",
    "\n",
    "\n",
    "num=int(input(\"Enter numbers of student:\"))\n",
    "\n",
    "for i in range(num):\n",
    "    return_result=addresult()\n",
    "    \n",
    "    result = result + return_result\n",
    "    \n",
    "print(\"\\nName  Physics  Chemistry  Biology  Math  Total  Result\")\n",
    "print(result)\n"
   ]
  },
  {
   "cell_type": "code",
   "execution_count": null,
   "id": "50f96e34",
   "metadata": {},
   "outputs": [],
   "source": []
  }
 ],
 "metadata": {
  "kernelspec": {
   "display_name": "Python 3 (ipykernel)",
   "language": "python",
   "name": "python3"
  },
  "language_info": {
   "codemirror_mode": {
    "name": "ipython",
    "version": 3
   },
   "file_extension": ".py",
   "mimetype": "text/x-python",
   "name": "python",
   "nbconvert_exporter": "python",
   "pygments_lexer": "ipython3",
   "version": "3.9.7"
  }
 },
 "nbformat": 4,
 "nbformat_minor": 5
}
