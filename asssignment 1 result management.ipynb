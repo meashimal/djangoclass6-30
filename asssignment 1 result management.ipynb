{
 "cells": [
  {
   "cell_type": "code",
   "execution_count": 18,
   "id": "48133061",
   "metadata": {},
   "outputs": [
    {
     "name": "stdout",
     "output_type": "stream",
     "text": [
      "Enter numbers of student:0\n",
      "\n",
      "Name  Physics  Chemistry  Biology  Math  Total  Result\n",
      "\n"
     ]
    }
   ],
   "source": [
    "result=str()\n",
    "\n",
    "def addresult():\n",
    "    name=input(\"Enter Name:\")\n",
    "    physics=int(input(\"Enter Mark in Physics:\"))\n",
    "    chemistry=int(input(\"Enter Mark in Chemistry:\"))\n",
    "    biology=int(input(\"Enter Mark in Biology:\"))\n",
    "    math=int(input(\"Enter Mark in Math:\"))\n",
    "    \n",
    "    total=physics+chemistry+biology+math\n",
    "    \n",
    "    per=(total/400)*100\n",
    "    \n",
    "    #calculating grade\n",
    "    if per>=90:\n",
    "        remark=\"A+\"\n",
    "    elif per>=80:\n",
    "        remark=\"A\"\n",
    "    elif per>=70:\n",
    "        remark=\"B+\"\n",
    "    elif per>=60:\n",
    "        remark=\"B\"\n",
    "    else:\n",
    "        remark=\"Fail\"\n",
    "    \n",
    "    return_result=f\"{name} \\t{physics} \\t{chemistry} \\t{biology} \\t{math} \\t{total} \\t{remark} \\n\"\n",
    "    return return_result\n",
    "\n",
    "\n",
    "num=int(input(\"Enter numbers of student:\"))\n",
    "\n",
    "for i in range(num):\n",
    "    return_result=addresult()\n",
    "    \n",
    "    result = result + return_result\n",
    "    \n",
    "print(\"\\nName  Physics  Chemistry  Biology  Math  Total  Result\")\n",
    "print(result)\n"
   ]
  },
  {
   "cell_type": "code",
   "execution_count": null,
   "id": "11fb9854",
   "metadata": {},
   "outputs": [],
   "source": []
  }
 ],
 "metadata": {
  "kernelspec": {
   "display_name": "Python 3 (ipykernel)",
   "language": "python",
   "name": "python3"
  },
  "language_info": {
   "codemirror_mode": {
    "name": "ipython",
    "version": 3
   },
   "file_extension": ".py",
   "mimetype": "text/x-python",
   "name": "python",
   "nbconvert_exporter": "python",
   "pygments_lexer": "ipython3",
   "version": "3.9.7"
  }
 },
 "nbformat": 4,
 "nbformat_minor": 5
}
