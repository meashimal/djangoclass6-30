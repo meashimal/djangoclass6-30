{
 "cells": [
  {
   "cell_type": "code",
   "execution_count": 2,
   "id": "f9918341",
   "metadata": {},
   "outputs": [
    {
     "name": "stdout",
     "output_type": "stream",
     "text": [
      "['apple', 'cat', 'ball', 'tiger']\n"
     ]
    }
   ],
   "source": [
    "data=[\"apple\",\"cat\",\"ball\",\"tiger\"]\n",
    "print(data)"
   ]
  },
  {
   "cell_type": "code",
   "execution_count": 3,
   "id": "276d8403",
   "metadata": {},
   "outputs": [
    {
     "name": "stdout",
     "output_type": "stream",
     "text": [
      "['apple', 'cat', 'ball', 'tiger', 23, 34]\n"
     ]
    }
   ],
   "source": [
    "alu=[23,34]\n",
    "data=data+alu\n",
    "print(data)"
   ]
  },
  {
   "cell_type": "code",
   "execution_count": 7,
   "id": "ed1c99b5",
   "metadata": {},
   "outputs": [
    {
     "name": "stdout",
     "output_type": "stream",
     "text": [
      "enter number:3\n",
      "enter data:12\n",
      "enter data:52\n",
      "enter data:47\n",
      "['12', '52', '47']\n"
     ]
    }
   ],
   "source": [
    "#data=[]\n",
    "data=list()\n",
    "n=int(input(\"enter number:\"))\n",
    "for i in range(n):\n",
    "    add=input(\"enter data:\")\n",
    "    data.append(add)\n",
    "    \n",
    "print(data)"
   ]
  },
  {
   "cell_type": "code",
   "execution_count": 9,
   "id": "2ca851c3",
   "metadata": {},
   "outputs": [
    {
     "name": "stdout",
     "output_type": "stream",
     "text": [
      "None\n",
      "['12', '47', '52']\n"
     ]
    }
   ],
   "source": [
    "data.sort()\n",
    "print(data)"
   ]
  },
  {
   "cell_type": "code",
   "execution_count": 10,
   "id": "e8f9a9f5",
   "metadata": {},
   "outputs": [
    {
     "name": "stdout",
     "output_type": "stream",
     "text": [
      "['52', '47', '12']\n"
     ]
    }
   ],
   "source": [
    "data.reverse()\n",
    "print(data)"
   ]
  },
  {
   "cell_type": "code",
   "execution_count": null,
   "id": "9ccf3827",
   "metadata": {},
   "outputs": [],
   "source": [
    "#insert, extend, append"
   ]
  },
  {
   "cell_type": "code",
   "execution_count": 14,
   "id": "dcd8abe0",
   "metadata": {},
   "outputs": [
    {
     "name": "stdout",
     "output_type": "stream",
     "text": [
      "['apple', 'cat', 'hari', 'ball', 'bat']\n"
     ]
    }
   ],
   "source": [
    "data=[\"apple\", \"cat\", \"ball\", \"bat\"]\n",
    "data.insert(2,\"hari\")\n",
    "print(data)"
   ]
  },
  {
   "cell_type": "code",
   "execution_count": 15,
   "id": "cbdc373b",
   "metadata": {},
   "outputs": [
    {
     "name": "stdout",
     "output_type": "stream",
     "text": [
      "['apple', 'cat', 'ball', 'bat', 'kale', 'gore']\n"
     ]
    }
   ],
   "source": [
    "data=[\"apple\", \"cat\", \"ball\", \"bat\"]\n",
    "b=[\"kale\", \"gore\"]\n",
    "data.extend(b)\n",
    "print(data)"
   ]
  },
  {
   "cell_type": "code",
   "execution_count": null,
   "id": "153698ba",
   "metadata": {},
   "outputs": [],
   "source": []
  }
 ],
 "metadata": {
  "kernelspec": {
   "display_name": "Python 3 (ipykernel)",
   "language": "python",
   "name": "python3"
  },
  "language_info": {
   "codemirror_mode": {
    "name": "ipython",
    "version": 3
   },
   "file_extension": ".py",
   "mimetype": "text/x-python",
   "name": "python",
   "nbconvert_exporter": "python",
   "pygments_lexer": "ipython3",
   "version": "3.9.7"
  }
 },
 "nbformat": 4,
 "nbformat_minor": 5
}
